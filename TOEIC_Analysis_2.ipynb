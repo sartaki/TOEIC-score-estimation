{
 "cells": [
  {
   "cell_type": "markdown",
   "metadata": {},
   "source": [
    "This script contains:\n",
    "- MR with 3 saccadic features and 'answer', 'Export_End_Trial_Time_ms'\n",
    "- Lasso and Ridge with the five features\n",
    "- SVR with the five features\n",
    "- Subject wise error vs TOEIC score for each of the fitted models\n",
    "\n",
    "Note: The codes could be easily modularized. I have kept it in a script form for ease of control."
   ]
  },
  {
   "cell_type": "code",
   "execution_count": 21,
   "metadata": {},
   "outputs": [],
   "source": [
    "library(ggplot2)\n",
    "library(repr)\n",
    "library(leaps)\n",
    "library(glmnet)\n",
    "library(e1071)\n",
    "default_opt <- options()"
   ]
  },
  {
   "cell_type": "code",
   "execution_count": 22,
   "metadata": {},
   "outputs": [
    {
     "name": "stdout",
     "output_type": "stream",
     "text": [
      "'data.frame':\t240 obs. of  37 variables:\n",
      " $ answer                        : num  1 2 3 1 3 1 1 3 2 1 ...\n",
      " $ TOEIC                         : num  600 600 600 600 600 600 600 600 600 600 ...\n",
      " $ subject                       : chr  \"hoshika\" \"hoshika\" \"hoshika\" \"hoshika\" ...\n",
      " $ Export_End_Trial_Time_ms      : num  542801 395178 266221 460026 568056 ...\n",
      " $ Participant                   : chr  \"document1\" \"document2\" \"document3\" \"document5\" ...\n",
      " $ Fixation_Count                : num  2627 1966 1220 2126 2781 ...\n",
      " $ Fixation_Frequency_count_s    : num  2.4 2.5 2.3 2.3 2.4 2 2.4 1.9 2 2 ...\n",
      " $ Fixation_Duration_Total_ms    : num  915307 633955 440719 796744 904161 ...\n",
      " $ Fixation_Duration_Average_ms  : num  348 322 361 375 325 ...\n",
      " $ Fixation_Duration_Maximum_ms  : num  2584 2272 3176 3160 2968 ...\n",
      " $ Fixation_Duration_Minimum_ms  : num  51.9 52 52 52 51.1 52 51.9 51.9 51.9 51.8 ...\n",
      " $ Fixation_Dispersion_Total_px  : num  204701 134971 86435 160022 217685 ...\n",
      " $ Fixation_Dispersion_Average_px: num  77.9 68.7 70.8 75.3 78.3 93.8 82.6 86.4 83.6 92.8 ...\n",
      " $ Fixation_Dispersion_Maximum_px: num  2159 1537 1127 2529 2068 ...\n",
      " $ Fixation_Dispersion_Minimum_px: num  0 0 1.3 0 0 0 0 0 0 0 ...\n",
      " $ Saccade_Count                 : num  2776 2161 1307 2224 3277 ...\n",
      " $ Saccade_Frequency_count_s     : num  2.6 2.7 2.5 2.4 2.9 2.2 2.5 2 2.2 2.2 ...\n",
      " $ Saccade_Duration_Total_ms     : num  124711 113364 70328 89264 164749 ...\n",
      " $ Saccade_Duration_Average_ms   : num  44.9 52.5 53.8 40.1 50.3 43.5 50.5 50.4 45.9 38.5 ...\n",
      " $ Saccade_Duration_Maximum_ms   : num  172 196 184 156 188 ...\n",
      " $ Saccade_Duration_Minimum_ms   : num  23 23.9 22.8 23.5 23.9 23.9 23.9 23.9 23.8 23.6 ...\n",
      " $ Saccade_Amplitude_Total_deg   : num  16993 12137 8615 10924 16030 ...\n",
      " $ Saccade_Amplitude_Average_deg : num  6.1 5.6 6.6 4.9 4.9 5.4 5.6 5.4 5.1 5.5 ...\n",
      " $ Saccade_Amplitude_Maximum_deg : num  98.7 76.1 96.9 75.3 52.7 90.8 74.9 82.8 62.3 70.3 ...\n",
      " $ Saccade_Amplitude_Minimum_deg : num  0.5 0.4 0.6 0.6 0.5 0.6 0.5 0.5 0.5 0.6 ...\n",
      " $ Saccade_Velocity_Total_deg_s  : num  308098 203697 134534 222896 302562 ...\n",
      " $ Saccade_Velocity_Average_deg_s: num  111 94.3 102.9 100.2 92.3 ...\n",
      " $ Saccade_Velocity_Maximum_deg_s: num  1326 1098 984 976 988 ...\n",
      " $ Saccade_Velocity_Minimum_deg_s: num  20.8 18 17.8 24.1 18.1 21.6 18.4 18.3 19.6 24.4 ...\n",
      " $ Saccade_Latency_Average_ms    : num  346 313 353 373 296 ...\n",
      " $ Blink_Count                   : num  197 159 93 147 217 123 195 133 150 234 ...\n",
      " $ Blink_Frequency_count_s       : num  0.2 0.2 0.2 0.2 0.2 0.1 0.2 0.1 0.1 0.2 ...\n",
      " $ Blink_Duration_Total_ms       : num  19980 17319 9726 17252 24701 ...\n",
      " $ Blink_Duration_Average_ms     : num  101 109 105 117 114 ...\n",
      " $ Blink_Duration_Maximum_ms     : num  276 316 288 1050 444 ...\n",
      " $ Blink_Duration_Minimum_ms     : num  8 8 8 7.6 8 8 16 8 12 8 ...\n",
      " $ Scanpath_Length_px            : num  384064 297992 168622 300587 414372 ...\n"
     ]
    }
   ],
   "source": [
    "df_toeic <- read.csv(file = '../fujiyoshi-data/rawdata.csv', header = TRUE, stringsAsFactors = FALSE)\n",
    "col_names <- c('answer', 'TOEIC', 'subject', 'Export_End_Trial_Time_ms', \n",
    "               'Participant', 'Fixation_Count',\n",
    "               'Fixation_Frequency_count_s', 'Fixation_Duration_Total_ms', \n",
    "               'Fixation_Duration_Average_ms', 'Fixation_Duration_Maximum_ms', \n",
    "               'Fixation_Duration_Minimum_ms', 'Fixation_Dispersion_Total_px', \n",
    "               'Fixation_Dispersion_Average_px', 'Fixation_Dispersion_Maximum_px', \n",
    "               'Fixation_Dispersion_Minimum_px', 'Saccade_Count', \n",
    "               'Saccade_Frequency_count_s', 'Saccade_Duration_Total_ms', \n",
    "               'Saccade_Duration_Average_ms', 'Saccade_Duration_Maximum_ms', \n",
    "               'Saccade_Duration_Minimum_ms', 'Saccade_Amplitude_Total_deg', \n",
    "               'Saccade_Amplitude_Average_deg', 'Saccade_Amplitude_Maximum_deg', \n",
    "               'Saccade_Amplitude_Minimum_deg', 'Saccade_Velocity_Total_deg_s', \n",
    "               'Saccade_Velocity_Average_deg_s', 'Saccade_Velocity_Maximum_deg_s', \n",
    "               'Saccade_Velocity_Minimum_deg_s', 'Saccade_Latency_Average_ms', \n",
    "               'Blink_Count', 'Blink_Frequency_count_s', 'Blink_Duration_Total_ms', \n",
    "               'Blink_Duration_Average_ms', 'Blink_Duration_Maximum_ms', \n",
    "               'Blink_Duration_Minimum_ms', 'Scanpath_Length_px')\n",
    "colnames(df_toeic) <- col_names\n",
    "df_toeic <- df_toeic[1:(nrow(df_toeic) - 2), ]\n",
    "df_toeic$TOEIC <- as.numeric(df_toeic$TOEIC)\n",
    "str(df_toeic)"
   ]
  },
  {
   "cell_type": "code",
   "execution_count": 23,
   "metadata": {},
   "outputs": [],
   "source": [
    "# corrections\n",
    "idx <- df_toeic$Participant == 'document15 (1)'\n",
    "df_toeic$Participant[idx] <- 'document15'\n",
    "\n",
    "idx <- df_toeic$Participant == 'documetn3'\n",
    "df_toeic$Participant[idx] <- 'document3'"
   ]
  },
  {
   "cell_type": "code",
   "execution_count": 24,
   "metadata": {},
   "outputs": [
    {
     "name": "stdout",
     "output_type": "stream",
     "text": [
      " [1] \"hoshika\"   \"kameda\"    \"kishimoto\" \"miura\"     \"miyagawa\"  \"mizuno\"   \n",
      " [7] \"morimoto\"  \"nakajima\"  \"onishi\"    \"rou\"       \"setoguchi\" \"shimada\"  \n",
      "[13] \"shimamoto\" \"sumita\"    \"tanaka\"    \"yamada\"   \n",
      "[1] 16\n",
      " [1] \"document1\"  \"document2\"  \"document3\"  \"document5\"  \"document6\" \n",
      " [6] \"document7\"  \"document8\"  \"document9\"  \"document10\" \"document11\"\n",
      "[11] \"document12\" \"document13\" \"document14\" \"document15\" \"document16\"\n",
      "[1] 15\n"
     ]
    }
   ],
   "source": [
    "subjects <- unique(df_toeic$subject)\n",
    "docs <- unique(df_toeic$Participant)\n",
    "print(subjects)\n",
    "print(length(subjects))\n",
    "print(docs)\n",
    "print(length(docs))"
   ]
  },
  {
   "cell_type": "code",
   "execution_count": 25,
   "metadata": {},
   "outputs": [],
   "source": [
    "# Performing Multivariate Regression\n",
    "\n",
    "response <- 'TOEIC'\n",
    "\n",
    "#predictors_1 <- c('Export_End_Trial_Time_ms', 'Fixation_Duration_Total_ms', 'Saccade_Duration_Total_ms', 'Saccade_Count', \n",
    "#                  'Fixation_Count', 'Saccade_Amplitude_Total_deg', 'Saccade_Velocity_Total_deg_s', 'Scanpath_Length_px', \n",
    "#                  'answer')\n",
    "\n",
    "predictors_1 <- c('Export_End_Trial_Time_ms', 'answer', 'Saccade_Duration_Total_ms', 'Saccade_Amplitude_Total_deg', \n",
    "                  'Saccade_Count')\n",
    "predictors_2 <- c('Export_End_Trial_Time_ms', 'answer')\n",
    "\n",
    "reg_formula_1 <- as.formula(paste(response, paste(predictors_1, collapse = '+'), \n",
    "                                sep = '~'))\n",
    "reg_formula_2 <- as.formula(paste(response, paste(predictors_2, collapse = '+'),\n",
    "                                  sep = '~'))"
   ]
  },
  {
   "cell_type": "code",
   "execution_count": 26,
   "metadata": {},
   "outputs": [],
   "source": [
    "cv_error_early_1 <- matrix(NA, length(subjects), 10, dimnames = list(subjects, 1:10))\n",
    "cv_error_early_2 <- cv_error_early_1\n",
    "cv_error_late_1 <- matrix(NA, length(subjects), 10, dimnames = list(subjects, 1:10))\n",
    "cv_error_late_2 <- cv_error_late_1\n",
    "mae_baseline <- c()"
   ]
  },
  {
   "cell_type": "code",
   "execution_count": 27,
   "metadata": {},
   "outputs": [],
   "source": [
    "for(s in subjects){\n",
    "  df_cv <- df_toeic[df_toeic$subject == s, ]\n",
    "  df_tr <- df_toeic[!(df_toeic$subject == s), ]\n",
    "  \n",
    "  tr_feature_mean <- colMeans(df_tr[, predictors_1])\n",
    "  tr_feature_sd <- apply(df_tr[, predictors_1], 2, sd)\n",
    "  \n",
    "  # normalizing the cv and train sets\n",
    "  for(f in predictors_1){\n",
    "    df_cv[, f] <- (df_cv[, f] - tr_feature_mean[f]) / tr_feature_sd[f]\n",
    "    df_tr[, f] <- (df_tr[, f] - tr_feature_mean[f]) / tr_feature_sd[f]\n",
    "  }\n",
    "  \n",
    "  # colMeans(df_tr[, predictors_1])\n",
    "  # apply(df_tr[, predictors_1], 2, sd)\n",
    "  \n",
    "  mae_baseline <- mean(abs(df_cv$TOEIC - mean(df_tr$TOEIC)))\n",
    "  \n",
    "  # buliding the regression model\n",
    "  reg_model_1 <- lm(reg_formula_1, data = df_tr)\n",
    "  reg_model_2 <- lm(reg_formula_2, data = df_tr)\n",
    "  \n",
    "  # computing the error for different combo of documents for cv set\n",
    "  for(m in 1:10){\n",
    "    doc_sample_comb <- combn(length(docs), m = m)\n",
    "    n_comb <- min(ncol(doc_sample_comb), 100)\n",
    "    mae_late_1 <- mae_late_2 <- mae_early_1 <- mae_early_2 <- c()\n",
    "    for(i in 1:n_comb){\n",
    "      pred_1 <- predict(reg_model_1, newdata = df_cv[df_cv$Participant %in% docs[doc_sample_comb[, i]], ])\n",
    "      pred_2 <- predict(reg_model_2, newdata = df_cv[df_cv$Participant %in% docs[doc_sample_comb[, i]], ])\n",
    "      err_1 <- mean(abs(pred_1 - df_cv[df_cv$Participant %in% docs[doc_sample_comb[, i]], 'TOEIC']))\n",
    "      err_2 <- mean(abs(pred_2 - df_cv[df_cv$Participant %in% docs[doc_sample_comb[, i]], 'TOEIC']))\n",
    "      mae_late_1 <- c(mae_late_1, err_1)\n",
    "      mae_late_2 <- c(mae_late_2, err_2)\n",
    "      mae_early_1 <- c(mae_early_1, \n",
    "                       abs(mean(df_cv[df_cv$Participant %in% docs[doc_sample_comb[, i]], 'TOEIC']) - mean(pred_1)))\n",
    "      mae_early_2 <- c(mae_early_2, \n",
    "                       abs(mean(df_cv[df_cv$Participant %in% docs[doc_sample_comb[, i]], 'TOEIC']) - mean(pred_2)))\n",
    "    }\n",
    "    cv_error_late_1[s, m] <- mean(mae_late_1, na.rm = T)\n",
    "    cv_error_late_2[s, m] <- mean(mae_late_2, na.rm = T)\n",
    "    cv_error_early_1[s, m] <- mean(mae_early_1, na.rm = T)\n",
    "    cv_error_early_2[s, m] <- mean(mae_early_2, na.rm = T)\n",
    "  }\n",
    "}"
   ]
  },
  {
   "cell_type": "code",
   "execution_count": 30,
   "metadata": {},
   "outputs": [
    {
     "data": {},
     "metadata": {},
     "output_type": "display_data"
    },
    {
     "data": {
      "image/png": "[encoded data removed]",
      "text/plain": [
       "plot without title"
      ]
     },
     "metadata": {},
     "output_type": "display_data"
    }
   ],
   "source": [
    "df1 <- data.frame(x = 1:10, y = apply(cv_error_late_1, 2, mean))\n",
    "df2 <- data.frame(x = 1:10, y = apply(cv_error_late_2, 2, mean))\n",
    "df3 <- data.frame(x = 1:10, y = mean(mae_baseline))\n",
    "options(repr.plot.width= 6, repr.plot.height= 3)\n",
    "ggplot()+\n",
    "  geom_line(data = df1, aes(x = x, y = y, color = 'MR with 5 predictors'))+\n",
    "  geom_line(data = df2, aes(x = x, y = y, color = 'Answer and time'))+\n",
    "  geom_line(data = df3, aes(x = x, y = y, color = 'Baseline'))+\n",
    "  xlab('Number of documents')+\n",
    "  scale_x_continuous(breaks = seq(1, 10, 1))+\n",
    "  ylab('Mean absolute error (TOEIC score)')\n",
    "options(default_opt)"
   ]
  },
  {
   "cell_type": "code",
   "execution_count": 31,
   "metadata": {},
   "outputs": [
    {
     "data": {},
     "metadata": {},
     "output_type": "display_data"
    },
    {
     "data": {
      "image/png": "[encoded data removed]",
      "text/plain": [
       "plot without title"
      ]
     },
     "metadata": {},
     "output_type": "display_data"
    }
   ],
   "source": [
    "options(repr.plot.width= 6, repr.plot.height= 3)\n",
    "ggplot()+\n",
    "  geom_line(data = df1, aes(x = x, y = y, color = '5 predictors'))+\n",
    "  geom_line(data = df2, aes(x = x, y = y, color = 'Answer and time'))+\n",
    "  #geom_line(data = df3, aes(x = x, y = y, color = 'Baseline'))+\n",
    "  xlab('Number of documents')+\n",
    "  scale_x_continuous(breaks = seq(1, 10, 1))+\n",
    "  ylab('Mean absolute error (TOEIC score)')\n",
    "options(default_opt)"
   ]
  },
  {
   "cell_type": "code",
   "execution_count": 32,
   "metadata": {},
   "outputs": [
    {
     "data": {},
     "metadata": {},
     "output_type": "display_data"
    },
    {
     "data": {
      "image/png": "[encoded data removed]",
      "text/plain": [
       "plot without title"
      ]
     },
     "metadata": {},
     "output_type": "display_data"
    }
   ],
   "source": [
    "df1_early <- data.frame(x = 1:10, y = apply(cv_error_early_1, 2, mean))\n",
    "df2_early <- data.frame(x = 1:10, y = apply(cv_error_early_2, 2, mean))\n",
    "\n",
    "options(repr.plot.width= 6, repr.plot.height= 3)\n",
    "ggplot()+\n",
    "  geom_line(data = df1_early, aes(x = x, y = y, color = '5 predictors'))+\n",
    "  geom_line(data = df2_early, aes(x = x, y = y, color = 'Answer and time'))+\n",
    "  geom_line(data = df3, aes(x = x, y = y, color = 'Baseline'))+\n",
    "  xlab('Number of documents')+\n",
    "  scale_x_continuous(breaks = seq(1, 10, 1))+\n",
    "  ylab('Mean absolute error (TOEIC score)')+\n",
    "  ggtitle('Early Fusion')\n",
    "options(default_opt)"
   ]
  },
  {
   "cell_type": "code",
   "execution_count": 34,
   "metadata": {},
   "outputs": [
    {
     "data": {},
     "metadata": {},
     "output_type": "display_data"
    },
    {
     "data": {
      "image/png": "[encoded data removed]",
      "text/plain": [
       "plot without title"
      ]
     },
     "metadata": {},
     "output_type": "display_data"
    }
   ],
   "source": [
    "options(repr.plot.width= 6, repr.plot.height= 3)\n",
    "ggplot()+\n",
    "  geom_line(data = df1_early, aes(x = x, y = y, color = '5 predictors'))+\n",
    "  geom_line(data = df2_early, aes(x = x, y = y, color = 'Answer and time'))+\n",
    "  #geom_line(data = df3, aes(x = x, y = y, color = 'Baseline'))+\n",
    "  xlab('Number of documents')+\n",
    "  scale_x_continuous(breaks = seq(1, 10, 1))+\n",
    "  ylab('Mean absolute error (TOEIC score)')+\n",
    "  ggtitle('Early Fusion')\n",
    "options(default_opt)"
   ]
  },
  {
   "cell_type": "code",
   "execution_count": 35,
   "metadata": {},
   "outputs": [
    {
     "data": {},
     "metadata": {},
     "output_type": "display_data"
    },
    {
     "data": {
      "image/png": "[encoded data removed]",
      "text/plain": [
       "plot without title"
      ]
     },
     "metadata": {},
     "output_type": "display_data"
    }
   ],
   "source": [
    "# plotting subject wise error with TOEIC score for 5 predictors MR\n",
    "\n",
    "df_subject_error <- unique(df_toeic[, c('subject', 'TOEIC')])\n",
    "df_subject_error$error <- rowMeans(cv_error_late_1)\n",
    "options(repr.plot.width= 4, repr.plot.height= 3)\n",
    "ggplot(df_subject_error, aes(x = TOEIC, y = error)) +\n",
    "  geom_point()+\n",
    "  ylab('Subject wise error')+\n",
    "  xlab('TOEIC Score')+\n",
    "  ggtitle('For 5 predictors MR')+\n",
    "  geom_smooth(method = 'loess', se = FALSE)\n",
    "options(default_opt)"
   ]
  },
  {
   "cell_type": "code",
   "execution_count": 36,
   "metadata": {},
   "outputs": [],
   "source": [
    "# performing lasso regression with 5 predictors\n",
    "\n",
    "response <- 'TOEIC'\n",
    "#predictors <- col_names[-c(2, 3, 5)]\n",
    "#predictors <- c('Export_End_Trial_Time_ms', 'Fixation_Duration_Total_ms', \n",
    "#                'Saccade_Duration_Total_ms', 'Saccade_Count', \n",
    "#                'Fixation_Count', 'Saccade_Amplitude_Total_deg', \n",
    "#                'Saccade_Velocity_Total_deg_s', 'Scanpath_Length_px', 'answer')\n",
    "\n",
    "predictors <- c('Export_End_Trial_Time_ms', 'answer', 'Saccade_Duration_Total_ms', 'Saccade_Amplitude_Total_deg', \n",
    "                'Saccade_Count')\n",
    "reg_formula <- as.formula(paste(response, paste(predictors, collapse = '+'),\n",
    "                                sep = '~'))\n",
    "\n",
    "lambda_grid <- 10^seq(3, -3, length.out = 100)\n",
    "cv_error_lasso_late <- array(NA, c(length(subjects), length(lambda_grid), length(subjects)),\n",
    "                            dimnames = list(subjects, 1:length(lambda_grid), subjects))\n",
    "test_error_lasso_late <- matrix(NA, nrow = length(subjects), ncol = 10,\n",
    "                                dimnames = list(subjects, 1:10))\n",
    "\n",
    "for(i in 1:length(subjects)){\n",
    "  \n",
    "  df_test <- df_toeic[df_toeic$subject == subjects[i], ]\n",
    "  df_train <- df_toeic[!(df_toeic$subject == subjects[i]), ]\n",
    "  \n",
    "  tr_feature_mean <- colMeans(df_train[, predictors])\n",
    "  tr_feature_sd <- apply(df_train[, predictors], 2, sd)\n",
    "  \n",
    "  for(j in subjects[-i]){\n",
    "    df_cv_ls <- df_train[df_train$subject == j,]\n",
    "    df_train_ls <- df_train[!(df_train$subject == j), ]\n",
    "    \n",
    "    train_ls_mean <- colMeans(df_train_ls[, predictors])\n",
    "    train_ls_sd <- apply(df_train_ls[, predictors], 2, sd)\n",
    "    \n",
    "    # normalizing cv and corresponding train data\n",
    "    for(f in predictors){\n",
    "      df_train_ls[, f] <- (df_train_ls[, f] - train_ls_mean[f]) / train_ls_sd[f]\n",
    "      df_cv_ls[, f] <- (df_cv_ls[, f] - train_ls_mean[f]) / train_ls_sd[f]\n",
    "    }\n",
    "  \n",
    "    # apply(df_train_ls[, predictors], 2, sd)\n",
    "    # colMeans(df_train_ls[,predictors])\n",
    "    \n",
    "    x_cv_ls <- model.matrix(reg_formula, data = df_cv_ls)\n",
    "    y_cv_ls <- df_cv_ls$TOEIC\n",
    "    \n",
    "    x_train_ls <- model.matrix(reg_formula, data = df_train_ls)[, -1]\n",
    "    y_train_ls <- df_train_ls$TOEIC\n",
    "    \n",
    "    model_lasso <- glmnet(x_train_ls, y_train_ls, alpha = 1, lambda = lambda_grid,\n",
    "                          standardize = F)\n",
    "    pred <- as.matrix(x_cv_ls %*% coef(model_lasso))\n",
    "    res <- matrix(rep(y_cv_ls, length(lambda_grid)), nrow = nrow(df_cv_ls), \n",
    "                  ncol = length(lambda_grid), byrow = F)\n",
    "    cv_error_lasso_late[j, , i] <- colMeans(abs(pred - res))\n",
    "    \n",
    "  }\n",
    "  \n",
    "  cv_error_lambda <- colMeans(cv_error_lasso_late[, , i], na.rm = TRUE)\n",
    "  lambda_idx <- which(cv_error_lambda == min(cv_error_lambda))\n",
    "  \n",
    "  # normalizing the train and test data\n",
    "  for(f in predictors){\n",
    "    df_train[, f] <- (df_train[, f] - tr_feature_mean[f]) / tr_feature_sd[f]\n",
    "    df_test[, f] <- (df_test[, f] - tr_feature_mean[f]) / tr_feature_sd[f]\n",
    "  }\n",
    "  \n",
    "  x_train_ls <- model.matrix(reg_formula, df_train)[, -1]\n",
    "  y_train_ls <- df_train$TOEIC\n",
    "  x_test_ls <- model.matrix(reg_formula, df_test)\n",
    "  y_test_ls <- df_test$TOEIC\n",
    "  \n",
    "  reg_model_lasso <- glmnet(x_train_ls, y_train_ls, alpha = 1, lambda = lambda_grid,\n",
    "                            standardize = F)\n",
    "  coef_lasso <- coef(reg_model_lasso)[, lambda_idx]\n",
    "  \n",
    "  # testing\n",
    "  for(doc in 1:10){\n",
    "    doc_sample_comb <- combn(length(docs), m = doc)\n",
    "    n_comb <- min(100, ncol(doc_sample_comb))\n",
    "    mae <- c()\n",
    "    for(comb in 1:n_comb){\n",
    "      idx <- df_test$Participant %in% docs[doc_sample_comb[, comb]]\n",
    "      pred <- x_test_ls[idx, names(coef_lasso)] %*% coef_lasso\n",
    "      err <- mean(abs(pred - df_test[df_test$Participant %in% docs[doc_sample_comb[, comb]], 'TOEIC']))\n",
    "      mae <- c(mae, err)\n",
    "    }\n",
    "    test_error_lasso_late[i, doc] <- mean(mae, na.rm = T)\n",
    "  }\n",
    "}"
   ]
  },
  {
   "cell_type": "code",
   "execution_count": 37,
   "metadata": {},
   "outputs": [
    {
     "data": {},
     "metadata": {},
     "output_type": "display_data"
    },
    {
     "data": {
      "image/png": "[encoded data removed]",
      "text/plain": [
       "plot without title"
      ]
     },
     "metadata": {},
     "output_type": "display_data"
    }
   ],
   "source": [
    "df_lasso <- data.frame(x = 1:10, y = colMeans(test_error_lasso_late))\n",
    "options(repr.plot.width= 8, repr.plot.height= 4)\n",
    "ggplot()+\n",
    "  geom_line(data = df1, aes(x = x, y = y, color = '5 predictors MR'))+\n",
    "  geom_line(data = df2, aes(x = x, y = y, color = 'Answer and time'))+\n",
    "  #geom_line(data = df3, aes(x = x, y = y, color = 'Baseline'))+\n",
    "  geom_line(data = df_lasso, aes(x = x, y = y, color = 'Lasso with 5 predictors'))+\n",
    "  xlab('Number of documents')+\n",
    "  scale_x_continuous(breaks = seq(1, 10, 1))+\n",
    "  ylab('Mean absolute error (TOEIC score)')\n",
    "options(default_opt)"
   ]
  },
  {
   "cell_type": "code",
   "execution_count": 38,
   "metadata": {},
   "outputs": [
    {
     "data": {},
     "metadata": {},
     "output_type": "display_data"
    },
    {
     "data": {
      "image/png": "[encoded data removed]",
      "text/plain": [
       "plot without title"
      ]
     },
     "metadata": {},
     "output_type": "display_data"
    }
   ],
   "source": [
    "# plotting subject wise error with TOEIC score for lasso\n",
    "\n",
    "df_subject_error <- unique(df_toeic[, c('subject', 'TOEIC')])\n",
    "df_subject_error$error <- rowMeans(test_error_lasso_late)\n",
    "options(repr.plot.width= 4, repr.plot.height= 3)\n",
    "ggplot(df_subject_error, aes(x = TOEIC, y = error)) +\n",
    "  geom_point()+\n",
    "  ylab('Subject wise error')+\n",
    "  xlab('TOEIC Score')+\n",
    "  ggtitle('For lasso with 5 predictors')+\n",
    "  geom_smooth(method = 'loess', se = FALSE)\n",
    "options(default_opt)"
   ]
  },
  {
   "cell_type": "code",
   "execution_count": 39,
   "metadata": {},
   "outputs": [],
   "source": [
    "# performing ridge regression on the 5 predictors\n",
    "\n",
    "response <- 'TOEIC'\n",
    "#predictors <- col_names[-c(2, 3, 5)]\n",
    "#predictors <- c('Export_End_Trial_Time_ms', 'Fixation_Duration_Total_ms', \n",
    "#                'Saccade_Duration_Total_ms', 'Saccade_Count', \n",
    "#                'Fixation_Count', 'Saccade_Amplitude_Total_deg', \n",
    "#                'Saccade_Velocity_Total_deg_s', 'Scanpath_Length_px', 'answer')\n",
    "\n",
    "predictors <- c('Export_End_Trial_Time_ms', 'answer', 'Saccade_Duration_Total_ms', 'Saccade_Amplitude_Total_deg', \n",
    "                  'Saccade_Count')\n",
    "\n",
    "reg_formula <- as.formula(paste(response, paste(predictors, collapse = '+'),\n",
    "                                sep = '~'))\n",
    "\n",
    "lambda_grid <- 10^seq(3, -3, length.out = 100)\n",
    "cv_error_ridge_late <- array(NA, c(length(subjects), length(lambda_grid), length(subjects)),\n",
    "                             dimnames = list(subjects, 1:length(lambda_grid), subjects))\n",
    "test_error_ridge_late <- matrix(NA, nrow = length(subjects), ncol = 10,\n",
    "                                dimnames = list(subjects, 1:10))\n",
    "\n",
    "for(i in 1:length(subjects)){\n",
    "  \n",
    "  df_test <- df_toeic[df_toeic$subject == subjects[i], ]\n",
    "  df_train <- df_toeic[!(df_toeic$subject == subjects[i]), ]\n",
    "  \n",
    "  tr_feature_mean <- colMeans(df_train[, predictors])\n",
    "  tr_feature_sd <- apply(df_train[, predictors], 2, sd)\n",
    "  \n",
    "  for(j in subjects[-i]){\n",
    "    df_cv_rg <- df_train[df_train$subject == j,]\n",
    "    df_train_rg <- df_train[!(df_train$subject == j), ]\n",
    "    \n",
    "    train_rg_mean <- colMeans(df_train_rg[, predictors])\n",
    "    train_rg_sd <- apply(df_train_rg[, predictors], 2, sd)\n",
    "    \n",
    "    # normalizing cv and corresponding train data\n",
    "    for(f in predictors){\n",
    "      df_train_rg[, f] <- (df_train_rg[, f] - train_rg_mean[f]) / train_rg_sd[f]\n",
    "      df_cv_rg[, f] <- (df_cv_rg[, f] - train_rg_mean[f]) / train_rg_sd[f]\n",
    "    }\n",
    "    \n",
    "    # apply(df_train_ls[, predictors], 2, sd)\n",
    "    # colMeans(df_train_ls[,predictors])\n",
    "    \n",
    "    x_cv_rg <- model.matrix(reg_formula, data = df_cv_rg)\n",
    "    y_cv_rg <- df_cv_rg$TOEIC\n",
    "    \n",
    "    x_train_rg <- model.matrix(reg_formula, data = df_train_rg)[, -1]\n",
    "    y_train_rg <- df_train_rg$TOEIC\n",
    "    \n",
    "    model_rg <- glmnet(x_train_rg, y_train_rg, alpha = 0, lambda = lambda_grid,\n",
    "                       standardize = F)\n",
    "    pred <- as.matrix(x_cv_rg %*% coef(model_rg))\n",
    "    res <- matrix(rep(y_cv_rg, length(lambda_grid)), nrow = nrow(df_cv_rg), \n",
    "                  ncol = length(lambda_grid), byrow = F)\n",
    "    cv_error_ridge_late[j, , i] <- colMeans(abs(pred - res))\n",
    "    \n",
    "  }\n",
    "  \n",
    "  cv_error_lambda <- colMeans(cv_error_ridge_late[, , i], na.rm = TRUE)\n",
    "  lambda_idx <- which(cv_error_lambda == min(cv_error_lambda))\n",
    "  \n",
    "  # normalizing the train and test data\n",
    "  for(f in predictors){\n",
    "    df_train[, f] <- (df_train[, f] - tr_feature_mean[f]) / tr_feature_sd[f]\n",
    "    df_test[, f] <- (df_test[, f] - tr_feature_mean[f]) / tr_feature_sd[f]\n",
    "  }\n",
    "  \n",
    "  x_train_rg <- model.matrix(reg_formula, df_train)[, -1]\n",
    "  y_train_rg <- df_train$TOEIC\n",
    "  x_test_rg <- model.matrix(reg_formula, df_test)\n",
    "  y_test_rg <- df_test$TOEIC\n",
    "  \n",
    "  reg_model_ridge <- glmnet(x_train_rg, y_train_rg, alpha = 0, lambda = lambda_grid,\n",
    "                            standardize = F)\n",
    "  coef_ridge <- coef(reg_model_ridge)[, lambda_idx]\n",
    "  \n",
    "  # testing\n",
    "  for(doc in 1:10){\n",
    "    doc_sample_comb <- combn(length(docs), m = doc)\n",
    "    n_comb <- min(100, ncol(doc_sample_comb))\n",
    "    mae <- c()\n",
    "    for(comb in 1:n_comb){\n",
    "      idx <- df_test$Participant %in% docs[doc_sample_comb[, comb]]\n",
    "      pred <- x_test_rg[idx, names(coef_ridge)] %*% coef_ridge\n",
    "      err <- mean(abs(pred - df_test[df_test$Participant %in% docs[doc_sample_comb[, comb]], 'TOEIC']))\n",
    "      mae <- c(mae, err)\n",
    "    }\n",
    "    test_error_ridge_late[i, doc] <- mean(mae, na.rm = T)\n",
    "  }\n",
    "}"
   ]
  },
  {
   "cell_type": "code",
   "execution_count": 40,
   "metadata": {},
   "outputs": [
    {
     "data": {},
     "metadata": {},
     "output_type": "display_data"
    },
    {
     "data": {
      "image/png": "[encoded data removed]",
      "text/plain": [
       "plot without title"
      ]
     },
     "metadata": {},
     "output_type": "display_data"
    }
   ],
   "source": [
    "df_ridge <- data.frame(x = 1:10, y = colMeans(test_error_ridge_late))\n",
    "options(repr.plot.width= 8, repr.plot.height= 4)\n",
    "ggplot()+\n",
    "  geom_line(data = df1, aes(x = x, y = y, color = '5 predictors MR'))+\n",
    "  geom_line(data = df2, aes(x = x, y = y, color = 'Answer and time'))+\n",
    "  #geom_line(data = df3, aes(x = x, y = y, color = 'Baseline'))+\n",
    "  geom_line(data = df_lasso, aes(x = x, y = y, color = 'Lasso with 5 predictors'))+\n",
    "  geom_line(data = df_ridge, aes(x = x, y = y, color = 'Ridge with predictors'))+\n",
    "  xlab('Number of documents')+\n",
    "   scale_x_continuous(breaks = seq(1, 10, 1))+\n",
    "  ylab('Mean absolute error (TOEIC score)')\n",
    "options(default_opt)"
   ]
  },
  {
   "cell_type": "code",
   "execution_count": 41,
   "metadata": {},
   "outputs": [
    {
     "data": {},
     "metadata": {},
     "output_type": "display_data"
    },
    {
     "data": {
      "image/png": "[encoded data removed]",
      "text/plain": [
       "plot without title"
      ]
     },
     "metadata": {},
     "output_type": "display_data"
    }
   ],
   "source": [
    "# plotting subject wise error with TOEIC score for ridge\n",
    "df_subject_error <- unique(df_toeic[, c('subject', 'TOEIC')])\n",
    "df_subject_error$error <- rowMeans(test_error_ridge_late)\n",
    "options(repr.plot.width= 4, repr.plot.height= 3)\n",
    "ggplot(df_subject_error, aes(x = TOEIC, y = error)) +\n",
    "  geom_point()+\n",
    "  ylab('Subject wise error')+\n",
    "  xlab('TOEIC Score')+\n",
    "  ggtitle('For ridge with 5 predictors')+\n",
    "  geom_smooth(method = 'loess', se = FALSE)\n",
    "options(default_opt)"
   ]
  },
  {
   "cell_type": "code",
   "execution_count": 19,
   "metadata": {},
   "outputs": [],
   "source": [
    "# fitting a support vector regression model with the 5 vars\n",
    "response <- 'TOEIC'\n",
    "\n",
    "predictors <- c('Export_End_Trial_Time_ms', 'answer', 'Saccade_Duration_Total_ms', 'Saccade_Amplitude_Total_deg', \n",
    "                'Saccade_Count')\n",
    "reg_formula <- as.formula(paste(response, paste(predictors, collapse = '+'),\n",
    "                                sep = '~'))\n",
    "\n",
    "param_ranges <- list(cost = 10^seq(1, 2, length.out = 10),\n",
    "                    gamma = 2^seq(-2, -1, length.out = 10))\n",
    "param_grid <- expand.grid(param_ranges)\n",
    "param_grid$error <- NA\n",
    "best_params <- list()\n",
    "test_error_svm_late <- matrix(NA, nrow = length(subjects), ncol = 10, \n",
    "                              dimnames = list(subjects, 1:10))\n",
    "for(i in 1:length(subjects)){\n",
    "  #print(i)\n",
    "  param_grid$error <- 0\n",
    "  df_train <- df_toeic[!(df_toeic$subject == subjects[i]), ]\n",
    "  df_test <- df_toeic[df_toeic$subject == subjects[i], ]\n",
    "  \n",
    "  train_feature_mean <- colMeans(df_train[, predictors])\n",
    "  train_feature_sd <- apply(df_train[, predictors], 2, sd)\n",
    "  \n",
    "  for(j in subjects[-i]){\n",
    "    df_train_svr <- df_train[!(df_train$subject == j), ]\n",
    "    df_cv_svr <- df_train[df_train$subject == j, ]\n",
    "    \n",
    "    tr_mean <- colMeans(df_train_svr[, predictors])\n",
    "    tr_sd <- apply(df_train_svr[, predictors], 2, sd)\n",
    "    \n",
    "    # normalizing the cv set and the corresponding training set\n",
    "    for(f in predictors){\n",
    "      df_train_svr[, f] <- (df_train_svr[, f] - tr_mean[f]) / tr_sd[f]\n",
    "      df_cv_svr[, f] <- (df_cv_svr[, f] - tr_mean[f]) / tr_sd[f]\n",
    "    }\n",
    "    \n",
    "    \n",
    "    svm_tune <- tune(svm, reg_formula, data = df_train_svr,\n",
    "                     validation.x = df_cv_svr, ranges = param_ranges,\n",
    "                     kernel = 'radial', scale = F,\n",
    "                     tunecontrol = tune.control(sampling = \"fix\", fix = 1))\n",
    "  \n",
    "    \n",
    "    param_grid$error <- param_grid$error + svm_tune$performances[, 'error']\n",
    "  }\n",
    "  idx <- which(min(param_grid$error) == param_grid$error)\n",
    "  best_gamma <- param_grid$gamma[idx]\n",
    "  best_cost <- param_grid$cost[idx]\n",
    "  #best_coef0 <- param_grid$coef0[idx]\n",
    "  best_params[[i]] <- c('best_cost' = best_cost,\n",
    "                        'best_gamma' = best_gamma)\n",
    "                        #'best_coef0' = best_coef0)\n",
    "  # normalizing train and test set\n",
    "  for(f in predictors){\n",
    "    df_train[, f] <- (df_train[, f] - train_feature_mean[f]) / train_feature_sd[f]\n",
    "    df_test[, f] <- (df_test[, f] - train_feature_mean[f]) / train_feature_sd[f]\n",
    "  }\n",
    "  \n",
    "  reg_svm <- svm(reg_formula, data = df_train, scale = FALSE, gamma = best_gamma,\n",
    "                 kernel = 'radial', cost = best_cost)\n",
    "  \n",
    "  # testing\n",
    "  for(doc in 1:10){\n",
    "    doc_sample_comb <- combn(length(docs), m = doc)\n",
    "    n_comb <- min(100, ncol(doc_sample_comb))\n",
    "    mae <- c()\n",
    "    for(comb in 1:n_comb){\n",
    "      pred <- predict(reg_svm, df_test[df_test$Participant %in% docs[doc_sample_comb[, comb]], ])\n",
    "      err <- mean(abs(pred - df_test[df_test$Participant %in% docs[doc_sample_comb[, comb]], 'TOEIC']))\n",
    "      mae <- c(mae, err)\n",
    "    }\n",
    "    test_error_svm_late[i, doc] <- mean(mae, na.rm = T)\n",
    "  }\n",
    "}"
   ]
  },
  {
   "cell_type": "code",
   "execution_count": 20,
   "metadata": {},
   "outputs": [
    {
     "data": {},
     "metadata": {},
     "output_type": "display_data"
    },
    {
     "data": {
      "image/png": "[encoded data removed]",
      "text/plain": [
       "plot without title"
      ]
     },
     "metadata": {},
     "output_type": "display_data"
    }
   ],
   "source": [
    "df_svr <- data.frame(x = 1:10, y = colMeans(test_error_svm_late))\n",
    "options(repr.plot.width= 8, repr.plot.height= 3)\n",
    "ggplot()+\n",
    "  geom_line(data = df1, aes(x = x, y = y, color = '5 features MR'))+\n",
    "  geom_line(data = df2, aes(x = x, y = y, color = 'Answer and time as features MR'))+\n",
    "  #geom_line(data = df3, aes(x = x, y = y, color = 'Baseline'))+\n",
    "  geom_line(data = df_lasso, aes(x = x, y = y, color = '5 features Lasso'))+\n",
    "  geom_line(data = df_ridge, aes(x = x, y = y, color = '5 features Ridge'))+\n",
    "  geom_line(data = df_svr, aes(x = x, y = y, color = '5 features SVR'))+\n",
    "  xlab('Number of documents')+\n",
    "  scale_x_continuous(breaks = seq(1, 10, 1))+\n",
    "  ylab('Mean absolute error (TOEIC score)')\n",
    "options(default_opt)"
   ]
  },
  {
   "cell_type": "code",
   "execution_count": 42,
   "metadata": {},
   "outputs": [
    {
     "data": {},
     "metadata": {},
     "output_type": "display_data"
    },
    {
     "data": {
      "image/png": "[encoded data removed]",
      "text/plain": [
       "plot without title"
      ]
     },
     "metadata": {},
     "output_type": "display_data"
    }
   ],
   "source": [
    "# plotting subject wise error with TOEIC score for ridge\n",
    "df_subject_error <- unique(df_toeic[, c('subject', 'TOEIC')])\n",
    "df_subject_error$error <- rowMeans(test_error_ridge_late)\n",
    "options(repr.plot.width= 4, repr.plot.height= 3)\n",
    "ggplot(df_subject_error, aes(x = TOEIC, y = error)) +\n",
    "  geom_point()+\n",
    "  ylab('Subject wise error')+\n",
    "  xlab('TOEIC Score')+\n",
    "  geom_smooth(method = 'loess', se = FALSE)\n",
    "options(default_opt)"
   ]
  },
  {
   "cell_type": "code",
   "execution_count": null,
   "metadata": {},
   "outputs": [],
   "source": []
  }
 ],
 "metadata": {
  "kernelspec": {
   "display_name": "R",
   "language": "R",
   "name": "ir"
  },
  "language_info": {
   "codemirror_mode": "r",
   "file_extension": ".r",
   "mimetype": "text/x-r-source",
   "name": "R",
   "pygments_lexer": "r",
   "version": "3.4.3"
  }
 },
 "nbformat": 4,
 "nbformat_minor": 2
}
